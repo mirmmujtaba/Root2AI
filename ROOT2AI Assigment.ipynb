{
 "cells": [
  {
   "cell_type": "code",
   "execution_count": 1,
   "metadata": {
    "colab": {
     "base_uri": "https://localhost:8080/"
    },
    "executionInfo": {
     "elapsed": 1328,
     "status": "ok",
     "timestamp": 1621846898386,
     "user": {
      "displayName": "Mujtaba Mir",
      "photoUrl": "",
      "userId": "04779880292502345341"
     },
     "user_tz": -330
    },
    "id": "5MmtDAy6C0T9",
    "outputId": "e132b661-41a9-4013-a83e-b6e70fc29e40"
   },
   "outputs": [
    {
     "name": "stdout",
     "output_type": "stream",
     "text": [
      "--2021-05-24 09:01:36--  https://doc-0g-70-docs.googleusercontent.com/docs/securesc/r5kf5b7cdb9m7vvltocpefcjv36j9hqe/758li00ih13112n0qpcao36uev87h340/1621846800000/04779880292502345341/04779880292502345341/1kPeuVQAwbM1x7DTZEtyrGXITN3vcFbwV?e=download&authuser=0&nonce=2ag65phl8df8i&user=04779880292502345341&hash=da2fsgoucqvt8q5e67ajomaibjif8opp\n",
      "Resolving doc-0g-70-docs.googleusercontent.com (doc-0g-70-docs.googleusercontent.com)... 172.217.9.193, 2607:f8b0:4004:806::2001\n",
      "Connecting to doc-0g-70-docs.googleusercontent.com (doc-0g-70-docs.googleusercontent.com)|172.217.9.193|:443... connected.\n",
      "HTTP request sent, awaiting response... 200 OK\n",
      "Length: 1900817 (1.8M) [text/csv]\n",
      "Saving to: ‘root2ai - Data.csv’\n",
      "\n",
      "root2ai - Data.csv  100%[===================>]   1.81M  --.-KB/s    in 0.06s   \n",
      "\n",
      "2021-05-24 09:01:37 (31.2 MB/s) - ‘root2ai - Data.csv’ saved [1900817/1900817]\n",
      "\n"
     ]
    }
   ],
   "source": [
    "# Data Source\n",
    "!wget --header=\"Host: doc-0g-70-docs.googleusercontent.com\" --header=\"User-Agent: Mozilla/5.0 (Windows NT 10.0; Win64; x64) AppleWebKit/537.36 (KHTML, like Gecko) Chrome/90.0.4430.212 Safari/537.36\" --header=\"Accept: text/html,application/xhtml+xml,application/xml;q=0.9,image/avif,image/webp,image/apng,*/*;q=0.8,application/signed-exchange;v=b3;q=0.9\" --header=\"Accept-Language: en-US,en;q=0.9\" --header=\"Cookie: AUTH_quvsv3f7hvua6si0jcsst9neqmqcnn8o_nonce=2ag65phl8df8i\" --header=\"Connection: keep-alive\" \"https://doc-0g-70-docs.googleusercontent.com/docs/securesc/r5kf5b7cdb9m7vvltocpefcjv36j9hqe/758li00ih13112n0qpcao36uev87h340/1621846800000/04779880292502345341/04779880292502345341/1kPeuVQAwbM1x7DTZEtyrGXITN3vcFbwV?e=download&authuser=0&nonce=2ag65phl8df8i&user=04779880292502345341&hash=da2fsgoucqvt8q5e67ajomaibjif8opp\" -c -O 'root2ai - Data.csv'"
   ]
  },
  {
   "cell_type": "code",
   "execution_count": 2,
   "metadata": {
    "colab": {
     "base_uri": "https://localhost:8080/"
    },
    "executionInfo": {
     "elapsed": 3617,
     "status": "ok",
     "timestamp": 1621846912093,
     "user": {
      "displayName": "Mujtaba Mir",
      "photoUrl": "",
      "userId": "04779880292502345341"
     },
     "user_tz": -330
    },
    "id": "Jyur2DjnNi0b",
    "outputId": "cfc9ecc4-b574-41c3-fed5-2794a5a47fa2"
   },
   "outputs": [
    {
     "name": "stdout",
     "output_type": "stream",
     "text": [
      "--2021-05-24 09:01:48--  https://doc-08-70-docs.googleusercontent.com/docs/securesc/r5kf5b7cdb9m7vvltocpefcjv36j9hqe/na437ekioh3afeoneiuta0cv81obk6ga/1621846875000/04779880292502345341/04779880292502345341/1CUIIy_uPGv3JFPKR_D0wNOBu_H-V5GbP?e=download&authuser=0\n",
      "Resolving doc-08-70-docs.googleusercontent.com (doc-08-70-docs.googleusercontent.com)... 172.217.9.193, 2607:f8b0:4004:806::2001\n",
      "Connecting to doc-08-70-docs.googleusercontent.com (doc-08-70-docs.googleusercontent.com)|172.217.9.193|:443... connected.\n",
      "HTTP request sent, awaiting response... 200 OK\n",
      "Length: unspecified [application/octet-stream]\n",
      "Saving to: ‘glove_vectors’\n",
      "\n",
      "glove_vectors           [           <=>      ] 121.60M  41.9MB/s    in 2.9s    \n",
      "\n",
      "2021-05-24 09:01:51 (41.9 MB/s) - ‘glove_vectors’ saved [127506004]\n",
      "\n"
     ]
    }
   ],
   "source": [
    "# Glove Vectors\n",
    "!wget --header=\"Host: doc-08-70-docs.googleusercontent.com\" --header=\"User-Agent: Mozilla/5.0 (Windows NT 10.0; Win64; x64) AppleWebKit/537.36 (KHTML, like Gecko) Chrome/90.0.4430.212 Safari/537.36\" --header=\"Accept: text/html,application/xhtml+xml,application/xml;q=0.9,image/avif,image/webp,image/apng,*/*;q=0.8,application/signed-exchange;v=b3;q=0.9\" --header=\"Accept-Language: en-US,en;q=0.9\" --header=\"Cookie: AUTH_quvsv3f7hvua6si0jcsst9neqmqcnn8o=04779880292502345341|1621846800000|upk02hl5bbuhp08f2u4csn3rburts87g\" --header=\"Connection: keep-alive\" \"https://doc-08-70-docs.googleusercontent.com/docs/securesc/r5kf5b7cdb9m7vvltocpefcjv36j9hqe/na437ekioh3afeoneiuta0cv81obk6ga/1621846875000/04779880292502345341/04779880292502345341/1CUIIy_uPGv3JFPKR_D0wNOBu_H-V5GbP?e=download&authuser=0\" -c -O 'glove_vectors'"
   ]
  },
  {
   "cell_type": "code",
   "execution_count": 1,
   "metadata": {
    "executionInfo": {
     "elapsed": 2794,
     "status": "ok",
     "timestamp": 1621849319436,
     "user": {
      "displayName": "Mujtaba Mir",
      "photoUrl": "",
      "userId": "04779880292502345341"
     },
     "user_tz": -330
    },
    "id": "eXj7GRcZCUfT"
   },
   "outputs": [],
   "source": [
    "import warnings \n",
    "warnings.filterwarnings('ignore')\n",
    "\n",
    "import pandas as pd\n",
    "import numpy as np\n",
    "import matplotlib.pyplot as plt\n",
    "import seaborn as sns\n",
    "import re\n",
    "from sklearn.model_selection import train_test_split\n",
    "from sklearn.model_selection import RandomizedSearchCV\n",
    "from sklearn.tree import DecisionTreeClassifier\n",
    "from sklearn.metrics import confusion_matrix, accuracy_score, f1_score\n",
    "from sklearn.linear_model import LogisticRegression\n",
    "from keras.utils import np_utils\n",
    "from sklearn.preprocessing import LabelEncoder\n",
    "from keras.preprocessing.text import Tokenizer\n",
    "from keras.preprocessing import sequence\n",
    "from tensorflow import keras\n",
    "from tensorflow.keras import layers\n",
    "from tensorflow.keras.layers import concatenate\n",
    "from tensorflow.keras.layers import Dropout, Flatten\n",
    "from keras.layers.normalization import BatchNormalization\n",
    "from keras.layers import Embedding, Dense, LSTM\n",
    "from tensorflow.keras import Model\n",
    "import tensorflow as tf"
   ]
  },
  {
   "cell_type": "markdown",
   "metadata": {
    "id": "KS4YiwxFMxQQ"
   },
   "source": [
    "*Reading the data*"
   ]
  },
  {
   "cell_type": "code",
   "execution_count": 2,
   "metadata": {
    "colab": {
     "base_uri": "https://localhost:8080/",
     "height": 204
    },
    "executionInfo": {
     "elapsed": 34,
     "status": "ok",
     "timestamp": 1621849319445,
     "user": {
      "displayName": "Mujtaba Mir",
      "photoUrl": "",
      "userId": "04779880292502345341"
     },
     "user_tz": -330
    },
    "id": "xmMvcmdCChcN",
    "outputId": "7963eaa4-ac4b-4339-befc-e9745e16fff4"
   },
   "outputs": [
    {
     "data": {
      "text/html": [
       "<div>\n",
       "<style scoped>\n",
       "    .dataframe tbody tr th:only-of-type {\n",
       "        vertical-align: middle;\n",
       "    }\n",
       "\n",
       "    .dataframe tbody tr th {\n",
       "        vertical-align: top;\n",
       "    }\n",
       "\n",
       "    .dataframe thead th {\n",
       "        text-align: right;\n",
       "    }\n",
       "</style>\n",
       "<table border=\"1\" class=\"dataframe\">\n",
       "  <thead>\n",
       "    <tr style=\"text-align: right;\">\n",
       "      <th></th>\n",
       "      <th>Text</th>\n",
       "      <th>Target</th>\n",
       "    </tr>\n",
       "  </thead>\n",
       "  <tbody>\n",
       "    <tr>\n",
       "      <th>0</th>\n",
       "      <td>reserve bank forming expert committee based in...</td>\n",
       "      <td>Blockchain</td>\n",
       "    </tr>\n",
       "    <tr>\n",
       "      <th>1</th>\n",
       "      <td>director could play role financial system</td>\n",
       "      <td>Blockchain</td>\n",
       "    </tr>\n",
       "    <tr>\n",
       "      <th>2</th>\n",
       "      <td>preliminary discuss secure transaction study r...</td>\n",
       "      <td>Blockchain</td>\n",
       "    </tr>\n",
       "    <tr>\n",
       "      <th>3</th>\n",
       "      <td>security indeed prove essential transforming f...</td>\n",
       "      <td>Blockchain</td>\n",
       "    </tr>\n",
       "    <tr>\n",
       "      <th>4</th>\n",
       "      <td>bank settlement normally take three days based...</td>\n",
       "      <td>Blockchain</td>\n",
       "    </tr>\n",
       "  </tbody>\n",
       "</table>\n",
       "</div>"
      ],
      "text/plain": [
       "                                                Text      Target\n",
       "0  reserve bank forming expert committee based in...  Blockchain\n",
       "1          director could play role financial system  Blockchain\n",
       "2  preliminary discuss secure transaction study r...  Blockchain\n",
       "3  security indeed prove essential transforming f...  Blockchain\n",
       "4  bank settlement normally take three days based...  Blockchain"
      ]
     },
     "execution_count": 2,
     "metadata": {
      "tags": []
     },
     "output_type": "execute_result"
    }
   ],
   "source": [
    "df = pd.read_csv('root2ai - Data.csv')\n",
    "df.head()"
   ]
  },
  {
   "cell_type": "code",
   "execution_count": 3,
   "metadata": {
    "colab": {
     "base_uri": "https://localhost:8080/"
    },
    "executionInfo": {
     "elapsed": 27,
     "status": "ok",
     "timestamp": 1621849319446,
     "user": {
      "displayName": "Mujtaba Mir",
      "photoUrl": "",
      "userId": "04779880292502345341"
     },
     "user_tz": -330
    },
    "id": "ZOvb1Z64DGwX",
    "outputId": "0cde5025-6b9e-4334-b2b0-32c6b4b98326"
   },
   "outputs": [
    {
     "data": {
      "text/plain": [
       "array(['Blockchain', 'Bigdata', 'credit reporting', 'Cyber Security',\n",
       "       'FinTech', 'Microservices', 'Neobanks', 'Robo Advising',\n",
       "       'Stock Trading', 'Data Security', 'Reg Tech'], dtype=object)"
      ]
     },
     "execution_count": 3,
     "metadata": {
      "tags": []
     },
     "output_type": "execute_result"
    }
   ],
   "source": [
    "df['Target'].unique()"
   ]
  },
  {
   "cell_type": "code",
   "execution_count": 4,
   "metadata": {
    "colab": {
     "base_uri": "https://localhost:8080/"
    },
    "executionInfo": {
     "elapsed": 22,
     "status": "ok",
     "timestamp": 1621849319448,
     "user": {
      "displayName": "Mujtaba Mir",
      "photoUrl": "",
      "userId": "04779880292502345341"
     },
     "user_tz": -330
    },
    "id": "iVY1MTM1Lgzh",
    "outputId": "03ef17ad-14b5-4f8b-813a-98eb372d3353"
   },
   "outputs": [
    {
     "data": {
      "text/plain": [
       "FinTech             8551\n",
       "Cyber Security      2640\n",
       "Bigdata             2267\n",
       "Reg Tech            2206\n",
       "credit reporting    1748\n",
       "Blockchain          1375\n",
       "Neobanks            1069\n",
       "Microservices        977\n",
       "Stock Trading        787\n",
       "Robo Advising        737\n",
       "Data Security        347\n",
       "Name: Target, dtype: int64"
      ]
     },
     "execution_count": 4,
     "metadata": {
      "tags": []
     },
     "output_type": "execute_result"
    }
   ],
   "source": [
    "df['Target'].value_counts()"
   ]
  },
  {
   "cell_type": "code",
   "execution_count": 5,
   "metadata": {
    "colab": {
     "base_uri": "https://localhost:8080/",
     "height": 279
    },
    "executionInfo": {
     "elapsed": 19,
     "status": "ok",
     "timestamp": 1621849319449,
     "user": {
      "displayName": "Mujtaba Mir",
      "photoUrl": "",
      "userId": "04779880292502345341"
     },
     "user_tz": -330
    },
    "id": "2pUWoQ9BLqjA",
    "outputId": "5b184468-cec2-4715-b483-b07b745b4e90"
   },
   "outputs": [
    {
     "data": {
      "image/png": "[encoded data removed]",
      "text/plain": [
       "<Figure size 432x288 with 1 Axes>"
      ]
     },
     "metadata": {
      "needs_background": "light",
      "tags": []
     },
     "output_type": "display_data"
    }
   ],
   "source": [
    "sns.countplot(y = df['Target'])\n",
    "plt.show()"
   ]
  },
  {
   "cell_type": "markdown",
   "metadata": {
    "id": "Xx0SzY5NM3tU"
   },
   "source": [
    "*General text preprocessing*"
   ]
  },
  {
   "cell_type": "code",
   "execution_count": 6,
   "metadata": {
    "executionInfo": {
     "elapsed": 17,
     "status": "ok",
     "timestamp": 1621849319450,
     "user": {
      "displayName": "Mujtaba Mir",
      "photoUrl": "",
      "userId": "04779880292502345341"
     },
     "user_tz": -330
    },
    "id": "Kg011WGPDPCH"
   },
   "outputs": [],
   "source": [
    "def preprocess(x):\n",
    "    x1 = str(x)\n",
    "    x1 = re.sub('\\r', ' ', x1)\n",
    "    x1 = re.sub('\\n', ' ', x1)\n",
    "    x1 = re.sub('@', ' ', x1)\n",
    "    x1 = re.sub('\\t', ' ', x1)\n",
    "    x1 = re.sub('\\!', ' ', x1)\n",
    "    x1 = re.sub('\\$', ' ', x1)\n",
    "    x1 = re.sub('\\%', ' ', x1)\n",
    "    x1 = re.sub('\\&', ' ', x1)\n",
    "    x1 = re.sub(r'<.*>', ' ', x1)\n",
    "    x1 = re.sub(r'>', ' ', x1)\n",
    "    x1 = re.sub(r'<', ' ', x1)\n",
    "    x1 = re.sub(r'\\.', ' ', x1)\n",
    "    x1 = re.sub(r\"won't\", \"will not\", x1)\n",
    "    x1 = re.sub(r\"can\\'t\", \"can not\", x1)\n",
    "    x1 = re.sub(r\"n\\'t\", \" not\", x1)\n",
    "    x1 = re.sub(r\"\\'re\", \" are\", x1)\n",
    "    x1 = re.sub(r\"\\'s\", \" is\", x1)\n",
    "    x1 = re.sub(r\"\\'d\", \" would\", x1)\n",
    "    x1 = re.sub(r\"\\'ll\", \" will\", x1)\n",
    "    x1 = re.sub(r\"\\'t\", \" not\", x1)\n",
    "    x1 = re.sub(r\"\\'ve\", \" have\", x1)\n",
    "    x1 = re.sub(r\"\\'m\", \" am\", x1)\n",
    "    x1 = x1.strip()\n",
    "    return x1"
   ]
  },
  {
   "cell_type": "code",
   "execution_count": 7,
   "metadata": {
    "executionInfo": {
     "elapsed": 643,
     "status": "ok",
     "timestamp": 1621849320077,
     "user": {
      "displayName": "Mujtaba Mir",
      "photoUrl": "",
      "userId": "04779880292502345341"
     },
     "user_tz": -330
    },
    "id": "8CxCfs-IHPEJ"
   },
   "outputs": [],
   "source": [
    "df['Text'] = df['Text'].apply(preprocess)"
   ]
  },
  {
   "cell_type": "markdown",
   "metadata": {
    "id": "SzyVYQz4M9h-"
   },
   "source": [
    "*Splitting the data*"
   ]
  },
  {
   "cell_type": "code",
   "execution_count": 8,
   "metadata": {
    "executionInfo": {
     "elapsed": 8,
     "status": "ok",
     "timestamp": 1621849320078,
     "user": {
      "displayName": "Mujtaba Mir",
      "photoUrl": "",
      "userId": "04779880292502345341"
     },
     "user_tz": -330
    },
    "id": "hAaiGmCQHkmz"
   },
   "outputs": [],
   "source": [
    "df_train, df_test = train_test_split(df, test_size = 0.15, random_state = 0, stratify = df['Target'])\n",
    "\n",
    "X_train = df_train['Text']\n",
    "y_train = df_train['Target']\n",
    "\n",
    "X_test = df_test['Text']\n",
    "y_test = df_test['Target']"
   ]
  },
  {
   "cell_type": "code",
   "execution_count": 9,
   "metadata": {
    "executionInfo": {
     "elapsed": 9,
     "status": "ok",
     "timestamp": 1621849320079,
     "user": {
      "displayName": "Mujtaba Mir",
      "photoUrl": "",
      "userId": "04779880292502345341"
     },
     "user_tz": -330
    },
    "id": "FrNZxndILLfB"
   },
   "outputs": [],
   "source": [
    "import pickle\n",
    "\n",
    "with open('glove_vectors', 'rb') as f:\n",
    "    glove = pickle.load(f)\n",
    "    glove_words =  set(glove.keys())"
   ]
  },
  {
   "cell_type": "markdown",
   "metadata": {
    "id": "Oi34N4LxOJFt"
   },
   "source": [
    "## ***Classical Machine Learning***"
   ]
  },
  {
   "cell_type": "code",
   "execution_count": 10,
   "metadata": {
    "executionInfo": {
     "elapsed": 7,
     "status": "ok",
     "timestamp": 1621849320080,
     "user": {
      "displayName": "Mujtaba Mir",
      "photoUrl": "",
      "userId": "04779880292502345341"
     },
     "user_tz": -330
    },
    "id": "VABuAsIENFPx"
   },
   "outputs": [],
   "source": [
    "def avg_embedding(x):\n",
    "    tokens = x.split()\n",
    "    arr = np.zeros(300)\n",
    "    for i in tokens:\n",
    "        if i in glove_words:\n",
    "            arr += glove[i]\n",
    "    return arr/(len(tokens) + 1)"
   ]
  },
  {
   "cell_type": "code",
   "execution_count": 11,
   "metadata": {
    "executionInfo": {
     "elapsed": 979,
     "status": "ok",
     "timestamp": 1621849321053,
     "user": {
      "displayName": "Mujtaba Mir",
      "photoUrl": "",
      "userId": "04779880292502345341"
     },
     "user_tz": -330
    },
    "id": "6X0NHYhrNnv4"
   },
   "outputs": [],
   "source": [
    "embedding_train = X_train.apply(avg_embedding)\n",
    "embedding_train_matrix = np.zeros((len(X_train), 300))\n",
    "for i in range(len(X_train)):\n",
    "    embedding_train_matrix[i] = embedding_train.values[i]\n",
    "\n",
    "embedding_test = X_test.apply(avg_embedding)\n",
    "embedding_test_matrix = np.zeros((len(X_test), 300))\n",
    "for i in range(len(X_test)):\n",
    "    embedding_test_matrix[i] = embedding_test.values[i]"
   ]
  },
  {
   "cell_type": "markdown",
   "metadata": {
    "id": "DspY3claOOJx"
   },
   "source": [
    "*1. Decision Tree Classifier*"
   ]
  },
  {
   "cell_type": "code",
   "execution_count": 12,
   "metadata": {
    "colab": {
     "base_uri": "https://localhost:8080/"
    },
    "executionInfo": {
     "elapsed": 107435,
     "status": "ok",
     "timestamp": 1621849428484,
     "user": {
      "displayName": "Mujtaba Mir",
      "photoUrl": "",
      "userId": "04779880292502345341"
     },
     "user_tz": -330
    },
    "id": "wbkwL8SqNuiL",
    "outputId": "3ab75eb2-09a1-4ed5-89fd-f874055c7294"
   },
   "outputs": [
    {
     "data": {
      "text/plain": [
       "RandomizedSearchCV(cv=3, error_score=nan,\n",
       "                   estimator=DecisionTreeClassifier(ccp_alpha=0.0,\n",
       "                                                    class_weight=None,\n",
       "                                                    criterion='gini',\n",
       "                                                    max_depth=None,\n",
       "                                                    max_features=None,\n",
       "                                                    max_leaf_nodes=None,\n",
       "                                                    min_impurity_decrease=0.0,\n",
       "                                                    min_impurity_split=None,\n",
       "                                                    min_samples_leaf=1,\n",
       "                                                    min_samples_split=2,\n",
       "                                                    min_weight_fraction_leaf=0.0,\n",
       "                                                    presort='deprecated',\n",
       "                                                    random_state=None,\n",
       "                                                    splitter='best'),\n",
       "                   iid='deprecated', n_iter=10, n_jobs=None,\n",
       "                   param_distributions={'max_depth': [1, 5, 10, 50],\n",
       "                                        'min_samples_split': [5, 10, 100, 500]},\n",
       "                   pre_dispatch='2*n_jobs', random_state=None, refit=True,\n",
       "                   return_train_score=True, scoring='accuracy', verbose=0)"
      ]
     },
     "execution_count": 12,
     "metadata": {
      "tags": []
     },
     "output_type": "execute_result"
    }
   ],
   "source": [
    "dtc = DecisionTreeClassifier()\n",
    "parameters = {'max_depth':  [1, 5, 10, 50],\n",
    "              'min_samples_split': [5, 10, 100, 500]}\n",
    "clf = RandomizedSearchCV(estimator = dtc, param_distributions = parameters, cv = 3, scoring = 'accuracy', return_train_score = True)\n",
    "clf.fit(embedding_train_matrix, y_train)"
   ]
  },
  {
   "cell_type": "code",
   "execution_count": 13,
   "metadata": {
    "colab": {
     "base_uri": "https://localhost:8080/"
    },
    "executionInfo": {
     "elapsed": 15,
     "status": "ok",
     "timestamp": 1621849428485,
     "user": {
      "displayName": "Mujtaba Mir",
      "photoUrl": "",
      "userId": "04779880292502345341"
     },
     "user_tz": -330
    },
    "id": "Qci1SewbP1kQ",
    "outputId": "da680d48-5abd-49f1-fce8-eb91e3e2a49b"
   },
   "outputs": [
    {
     "data": {
      "text/plain": [
       "{'max_depth': 10, 'min_samples_split': 500}"
      ]
     },
     "execution_count": 13,
     "metadata": {
      "tags": []
     },
     "output_type": "execute_result"
    }
   ],
   "source": [
    "clf.best_params_"
   ]
  },
  {
   "cell_type": "code",
   "execution_count": 14,
   "metadata": {
    "colab": {
     "base_uri": "https://localhost:8080/"
    },
    "executionInfo": {
     "elapsed": 11,
     "status": "ok",
     "timestamp": 1621849428486,
     "user": {
      "displayName": "Mujtaba Mir",
      "photoUrl": "",
      "userId": "04779880292502345341"
     },
     "user_tz": -330
    },
    "id": "mIbhfVppOhKY",
    "outputId": "abb6abc3-4a4e-4bec-96b7-cbce4e4f3d21"
   },
   "outputs": [
    {
     "name": "stdout",
     "output_type": "stream",
     "text": [
      "0.46647320965903205\n",
      "0.44509688784497947\n"
     ]
    }
   ],
   "source": [
    "print(accuracy_score(y_train, clf.predict(embedding_train_matrix)))\n",
    "print(accuracy_score(y_test, clf.predict(embedding_test_matrix)))"
   ]
  },
  {
   "cell_type": "code",
   "execution_count": 15,
   "metadata": {
    "colab": {
     "base_uri": "https://localhost:8080/"
    },
    "executionInfo": {
     "elapsed": 8,
     "status": "ok",
     "timestamp": 1621849428486,
     "user": {
      "displayName": "Mujtaba Mir",
      "photoUrl": "",
      "userId": "04779880292502345341"
     },
     "user_tz": -330
    },
    "id": "mSS3a1ey5ytT",
    "outputId": "3cdc8e17-4926-452d-ac7f-83e4bdccb8d8"
   },
   "outputs": [
    {
     "name": "stdout",
     "output_type": "stream",
     "text": [
      "0.46647320965903205\n",
      "0.44509688784497947\n"
     ]
    }
   ],
   "source": [
    "print(f1_score(y_train, clf.predict(embedding_train_matrix), average = 'micro'))\n",
    "print(f1_score(y_test, clf.predict(embedding_test_matrix), average = 'micro'))"
   ]
  },
  {
   "cell_type": "code",
   "execution_count": 16,
   "metadata": {
    "executionInfo": {
     "elapsed": 7,
     "status": "ok",
     "timestamp": 1621849428487,
     "user": {
      "displayName": "Mujtaba Mir",
      "photoUrl": "",
      "userId": "04779880292502345341"
     },
     "user_tz": -330
    },
    "id": "Ya-N8OFydmvm"
   },
   "outputs": [],
   "source": [
    "accuracy_dtc_train = accuracy_score(y_train, clf.predict(embedding_train_matrix))\n",
    "accuracy_dtc = accuracy_score(y_test, clf.predict(embedding_test_matrix))"
   ]
  },
  {
   "cell_type": "markdown",
   "metadata": {
    "id": "HWCwJlAtP6U9"
   },
   "source": [
    "*Since train and test scores are very similar therefore the model hasn't overfitted.*"
   ]
  },
  {
   "cell_type": "markdown",
   "metadata": {
    "id": "nr8UzqZkQB5o"
   },
   "source": [
    "*2. Logistic Regression*"
   ]
  },
  {
   "cell_type": "code",
   "execution_count": 17,
   "metadata": {
    "colab": {
     "base_uri": "https://localhost:8080/"
    },
    "executionInfo": {
     "elapsed": 74899,
     "status": "ok",
     "timestamp": 1621849503379,
     "user": {
      "displayName": "Mujtaba Mir",
      "photoUrl": "",
      "userId": "04779880292502345341"
     },
     "user_tz": -330
    },
    "id": "sAPNX32NPGDX",
    "outputId": "83008706-e270-4891-beee-c272ff8c96be"
   },
   "outputs": [
    {
     "data": {
      "text/plain": [
       "RandomizedSearchCV(cv=3, error_score=nan,\n",
       "                   estimator=LogisticRegression(C=1.0, class_weight=None,\n",
       "                                                dual=False, fit_intercept=True,\n",
       "                                                intercept_scaling=1,\n",
       "                                                l1_ratio=None, max_iter=100,\n",
       "                                                multi_class='auto', n_jobs=None,\n",
       "                                                penalty='l2', random_state=0,\n",
       "                                                solver='lbfgs', tol=0.0001,\n",
       "                                                verbose=0, warm_start=False),\n",
       "                   iid='deprecated', n_iter=10, n_jobs=None,\n",
       "                   param_distributions={'C': [1e-05, 0.001, 0.1, 1, 10, 100]},\n",
       "                   pre_dispatch='2*n_jobs', random_state=None, refit=True,\n",
       "                   return_train_score=True, scoring='accuracy', verbose=0)"
      ]
     },
     "execution_count": 17,
     "metadata": {
      "tags": []
     },
     "output_type": "execute_result"
    }
   ],
   "source": [
    "model = LogisticRegression(random_state = 0)\n",
    "parameters = {'C':  [0.00001, 0.001, 0.1, 1, 10, 100]}\n",
    "clf = RandomizedSearchCV(estimator = model, param_distributions = parameters, cv = 3, scoring = 'accuracy', return_train_score = True)\n",
    "clf.fit(embedding_train_matrix, y_train)"
   ]
  },
  {
   "cell_type": "code",
   "execution_count": 18,
   "metadata": {
    "colab": {
     "base_uri": "https://localhost:8080/"
    },
    "executionInfo": {
     "elapsed": 17,
     "status": "ok",
     "timestamp": 1621849503379,
     "user": {
      "displayName": "Mujtaba Mir",
      "photoUrl": "",
      "userId": "04779880292502345341"
     },
     "user_tz": -330
    },
    "id": "i3hEyycjQUI-",
    "outputId": "84ac1ae9-a4cf-4fe3-a498-f5025a88f1b3"
   },
   "outputs": [
    {
     "data": {
      "text/plain": [
       "{'C': 1}"
      ]
     },
     "execution_count": 18,
     "metadata": {
      "tags": []
     },
     "output_type": "execute_result"
    }
   ],
   "source": [
    "clf.best_params_"
   ]
  },
  {
   "cell_type": "code",
   "execution_count": 19,
   "metadata": {
    "colab": {
     "base_uri": "https://localhost:8080/"
    },
    "executionInfo": {
     "elapsed": 16,
     "status": "ok",
     "timestamp": 1621849503380,
     "user": {
      "displayName": "Mujtaba Mir",
      "photoUrl": "",
      "userId": "04779880292502345341"
     },
     "user_tz": -330
    },
    "id": "B1KX6xVvQpi7",
    "outputId": "03dc5cc5-3999-4cb1-ed82-0b259454f4b5"
   },
   "outputs": [
    {
     "name": "stdout",
     "output_type": "stream",
     "text": [
      "0.611565965385014\n",
      "0.5901350557839108\n"
     ]
    }
   ],
   "source": [
    "print(accuracy_score(y_train, clf.predict(embedding_train_matrix)))\n",
    "print(accuracy_score(y_test, clf.predict(embedding_test_matrix)))"
   ]
  },
  {
   "cell_type": "code",
   "execution_count": 20,
   "metadata": {
    "colab": {
     "base_uri": "https://localhost:8080/"
    },
    "executionInfo": {
     "elapsed": 13,
     "status": "ok",
     "timestamp": 1621849503380,
     "user": {
      "displayName": "Mujtaba Mir",
      "photoUrl": "",
      "userId": "04779880292502345341"
     },
     "user_tz": -330
    },
    "id": "0FbPhP1S68lq",
    "outputId": "c842be3a-a8f8-4ebb-87a8-655517199c6f"
   },
   "outputs": [
    {
     "name": "stdout",
     "output_type": "stream",
     "text": [
      "0.611565965385014\n",
      "0.5901350557839108\n"
     ]
    }
   ],
   "source": [
    "print(f1_score(y_train, clf.predict(embedding_train_matrix), average = 'micro'))\n",
    "print(f1_score(y_test, clf.predict(embedding_test_matrix), average = 'micro'))"
   ]
  },
  {
   "cell_type": "code",
   "execution_count": 21,
   "metadata": {
    "executionInfo": {
     "elapsed": 11,
     "status": "ok",
     "timestamp": 1621849504100,
     "user": {
      "displayName": "Mujtaba Mir",
      "photoUrl": "",
      "userId": "04779880292502345341"
     },
     "user_tz": -330
    },
    "id": "7uU8wO3TdgZG"
   },
   "outputs": [],
   "source": [
    "accuracy_lr_train = accuracy_score(y_train, clf.predict(embedding_train_matrix))\n",
    "accuracy_lr = accuracy_score(y_test, clf.predict(embedding_test_matrix))"
   ]
  },
  {
   "cell_type": "markdown",
   "metadata": {
    "id": "aIzLNPQJSArT"
   },
   "source": [
    "*Here too the model isn't overfitting plus the accuracy score improves significantly.*"
   ]
  },
  {
   "cell_type": "markdown",
   "metadata": {
    "id": "i9VpvuSCTXRL"
   },
   "source": [
    "## ***Deep Learning methods***"
   ]
  },
  {
   "cell_type": "markdown",
   "metadata": {
    "id": "bw-niy48aVPe"
   },
   "source": [
    "*LSTM Model*"
   ]
  },
  {
   "cell_type": "code",
   "execution_count": 22,
   "metadata": {
    "executionInfo": {
     "elapsed": 12,
     "status": "ok",
     "timestamp": 1621849504102,
     "user": {
      "displayName": "Mujtaba Mir",
      "photoUrl": "",
      "userId": "04779880292502345341"
     },
     "user_tz": -330
    },
    "id": "2rztBzOhQsY0"
   },
   "outputs": [],
   "source": [
    "label_encoder = LabelEncoder()\n",
    "y_train = label_encoder.fit_transform(y_train)\n",
    "label_encoder = LabelEncoder()\n",
    "y_test = label_encoder.fit_transform(y_test)\n",
    "y_train = np_utils.to_categorical(y_train, len(df_train['Target'].unique()))\n",
    "y_test = np_utils.to_categorical(y_test, len(df_train['Target'].unique()))"
   ]
  },
  {
   "cell_type": "code",
   "execution_count": 23,
   "metadata": {
    "colab": {
     "base_uri": "https://localhost:8080/"
    },
    "executionInfo": {
     "elapsed": 12,
     "status": "ok",
     "timestamp": 1621849504102,
     "user": {
      "displayName": "Mujtaba Mir",
      "photoUrl": "",
      "userId": "04779880292502345341"
     },
     "user_tz": -330
    },
    "id": "z0dRxcQRTofk",
    "outputId": "3948b397-5805-43f0-f5d3-cd944a96de74"
   },
   "outputs": [
    {
     "name": "stdout",
     "output_type": "stream",
     "text": [
      "2.0\n",
      "4.0\n",
      "5.0\n",
      "7.0\n",
      "8.0\n",
      "9.0\n",
      "11.0\n",
      "13.0\n",
      "16.0\n",
      "113.0\n"
     ]
    }
   ],
   "source": [
    "for i in range(10, 110, 10):\n",
    "    print(np.percentile(X_train.apply(lambda x : len(x.split())), i))"
   ]
  },
  {
   "cell_type": "code",
   "execution_count": 24,
   "metadata": {
    "colab": {
     "base_uri": "https://localhost:8080/"
    },
    "executionInfo": {
     "elapsed": 12,
     "status": "ok",
     "timestamp": 1621849504103,
     "user": {
      "displayName": "Mujtaba Mir",
      "photoUrl": "",
      "userId": "04779880292502345341"
     },
     "user_tz": -330
    },
    "id": "j41dzV8DbDBG",
    "outputId": "739893f0-0175-4fdd-a784-28aca853026d"
   },
   "outputs": [
    {
     "name": "stdout",
     "output_type": "stream",
     "text": [
      "17.0\n",
      "17.0\n",
      "18.0\n",
      "19.0\n",
      "20.0\n",
      "21.0\n",
      "23.0\n",
      "25.0\n",
      "30.0\n",
      "113.0\n"
     ]
    }
   ],
   "source": [
    "for i in range(91, 101):\n",
    "    print(np.percentile(X_train.apply(lambda x : len(x.split())), i))"
   ]
  },
  {
   "cell_type": "code",
   "execution_count": 25,
   "metadata": {
    "colab": {
     "base_uri": "https://localhost:8080/"
    },
    "executionInfo": {
     "elapsed": 10,
     "status": "ok",
     "timestamp": 1621849504103,
     "user": {
      "displayName": "Mujtaba Mir",
      "photoUrl": "",
      "userId": "04779880292502345341"
     },
     "user_tz": -330
    },
    "id": "ivqW72LoohNV",
    "outputId": "2c03c7c4-a6e7-4673-ab4e-9ab9459ce03b"
   },
   "outputs": [
    {
     "data": {
      "text/plain": [
       "13135    hand people demise cash spurred buzz around apple\n",
       "4761                 alternative data transforming finance\n",
       "286      institute development research banking technol...\n",
       "1271     recent report also central grid driven largely...\n",
       "5369     general accounting office common broadly fall ...\n",
       "Name: Text, dtype: object"
      ]
     },
     "execution_count": 25,
     "metadata": {
      "tags": []
     },
     "output_type": "execute_result"
    }
   ],
   "source": [
    "X_train.head()"
   ]
  },
  {
   "cell_type": "code",
   "execution_count": 26,
   "metadata": {
    "colab": {
     "base_uri": "https://localhost:8080/"
    },
    "executionInfo": {
     "elapsed": 8,
     "status": "ok",
     "timestamp": 1621849504103,
     "user": {
      "displayName": "Mujtaba Mir",
      "photoUrl": "",
      "userId": "04779880292502345341"
     },
     "user_tz": -330
    },
    "id": "ow4-gLGQokBE",
    "outputId": "0fcbb894-7a56-46fe-f974-c8ffb0d33592"
   },
   "outputs": [
    {
     "data": {
      "text/plain": [
       "5171     however china adopted consolidated regulatory ...\n",
       "21279    example technologies made possible payments pr...\n",
       "21953    These expense revenue factors driving developm...\n",
       "12545    sector long badly field innovation banking ins...\n",
       "3279                                          newscientist\n",
       "Name: Text, dtype: object"
      ]
     },
     "execution_count": 26,
     "metadata": {
      "tags": []
     },
     "output_type": "execute_result"
    }
   ],
   "source": [
    "X_test.head()"
   ]
  },
  {
   "cell_type": "code",
   "execution_count": 27,
   "metadata": {
    "executionInfo": {
     "elapsed": 570,
     "status": "ok",
     "timestamp": 1621849504667,
     "user": {
      "displayName": "Mujtaba Mir",
      "photoUrl": "",
      "userId": "04779880292502345341"
     },
     "user_tz": -330
    },
    "id": "4zD_N0vBUGvb"
   },
   "outputs": [],
   "source": [
    "# For converting words into numbers\n",
    "tokenizer = Tokenizer(num_words = 8000, filters = '!\"#$%&()*+,-./:;<=>?@[\\\\]^`{|}~\\t\\n')\n",
    "tokenizer.fit_on_texts(X_train)\n",
    "X_train_new = tokenizer.texts_to_sequences(X_train.values)\n",
    "X_test_new = tokenizer.texts_to_sequences(X_test.values)"
   ]
  },
  {
   "cell_type": "code",
   "execution_count": 28,
   "metadata": {
    "executionInfo": {
     "elapsed": 653,
     "status": "ok",
     "timestamp": 1621849505318,
     "user": {
      "displayName": "Mujtaba Mir",
      "photoUrl": "",
      "userId": "04779880292502345341"
     },
     "user_tz": -330
    },
    "id": "-GdJeCBtVpTi"
   },
   "outputs": [],
   "source": [
    "max_text_length = 25\n",
    "X_train_new = sequence.pad_sequences(X_train_new, maxlen = max_text_length, padding = 'post')\n",
    "X_test_new = sequence.pad_sequences(X_test_new, maxlen = max_text_length, padding = 'post')"
   ]
  },
  {
   "cell_type": "code",
   "execution_count": 29,
   "metadata": {
    "executionInfo": {
     "elapsed": 6,
     "status": "ok",
     "timestamp": 1621849505319,
     "user": {
      "displayName": "Mujtaba Mir",
      "photoUrl": "",
      "userId": "04779880292502345341"
     },
     "user_tz": -330
    },
    "id": "bQwDnZLXWBd0"
   },
   "outputs": [],
   "source": [
    "maximum_words = len(tokenizer.word_index)\n",
    "embedding_matrix = np.zeros((maximum_words + 1, 300))\n",
    "\n",
    "for word, i in tokenizer.word_index.items():\n",
    "    if word in glove_words:\n",
    "        embedding_matrix[i] = glove[word]"
   ]
  },
  {
   "cell_type": "code",
   "execution_count": 30,
   "metadata": {
    "executionInfo": {
     "elapsed": 5,
     "status": "ok",
     "timestamp": 1621849505319,
     "user": {
      "displayName": "Mujtaba Mir",
      "photoUrl": "",
      "userId": "04779880292502345341"
     },
     "user_tz": -330
    },
    "id": "FIXMIpjAWF6n"
   },
   "outputs": [],
   "source": [
    "input = keras.layers.Input(shape = (max_text_length, ))\n",
    "X = Embedding(output_dim = 300, input_dim = maximum_words + 1, input_length = max_text_length, weights = [embedding_matrix])(input)\n",
    "lstm = LSTM(100, activation = 'relu', return_sequences = True, kernel_initializer = 'he_normal')(X)\n",
    "lstm = Flatten()(lstm)\n",
    "b1 = BatchNormalization()(lstm)\n",
    "layer1 = Dense(128, activation = 'relu', kernel_initializer = 'he_normal')(b1)\n",
    "b2 = BatchNormalization()(layer1)\n",
    "dropout1 = Dropout(0.15)(layer1)\n",
    "layer2 = Dense(64, activation = 'relu', kernel_initializer = 'he_normal')(dropout1)\n",
    "b3 = BatchNormalization()(layer2)\n",
    "dropout2 = Dropout(0.15)(layer2)\n",
    "layer3 = Dense(32, activation = 'relu', kernel_initializer = 'he_normal')(dropout2)\n",
    "b4 = BatchNormalization()(layer3)\n",
    "layer4 = Dense(16, activation = 'relu', kernel_initializer = 'he_normal')(b2)\n",
    "output = Dense(len(df_train['Target'].unique()), activation = 'softmax', name = 'output')(layer4)"
   ]
  },
  {
   "cell_type": "code",
   "execution_count": 31,
   "metadata": {
    "executionInfo": {
     "elapsed": 6,
     "status": "ok",
     "timestamp": 1621849505320,
     "user": {
      "displayName": "Mujtaba Mir",
      "photoUrl": "",
      "userId": "04779880292502345341"
     },
     "user_tz": -330
    },
    "id": "HI1a8QPUXaEn"
   },
   "outputs": [],
   "source": [
    "model = Model(inputs = input, outputs = output)"
   ]
  },
  {
   "cell_type": "code",
   "execution_count": 32,
   "metadata": {
    "colab": {
     "base_uri": "https://localhost:8080/"
    },
    "executionInfo": {
     "elapsed": 5,
     "status": "ok",
     "timestamp": 1621849505320,
     "user": {
      "displayName": "Mujtaba Mir",
      "photoUrl": "",
      "userId": "04779880292502345341"
     },
     "user_tz": -330
    },
    "id": "LMD8t3eQXgYQ",
    "outputId": "bd49eb89-18fa-4eb5-a465-2fabb162c0d0"
   },
   "outputs": [
    {
     "name": "stdout",
     "output_type": "stream",
     "text": [
      "Model: \"model\"\n",
      "_________________________________________________________________\n",
      "Layer (type)                 Output Shape              Param #   \n",
      "=================================================================\n",
      "input_1 (InputLayer)         [(None, 25)]              0         \n",
      "_________________________________________________________________\n",
      "embedding (Embedding)        (None, 25, 300)           3216900   \n",
      "_________________________________________________________________\n",
      "lstm (LSTM)                  (None, 25, 100)           160400    \n",
      "_________________________________________________________________\n",
      "flatten (Flatten)            (None, 2500)              0         \n",
      "_________________________________________________________________\n",
      "batch_normalization (BatchNo (None, 2500)              10000     \n",
      "_________________________________________________________________\n",
      "dense (Dense)                (None, 128)               320128    \n",
      "_________________________________________________________________\n",
      "batch_normalization_1 (Batch (None, 128)               512       \n",
      "_________________________________________________________________\n",
      "dense_3 (Dense)              (None, 16)                2064      \n",
      "_________________________________________________________________\n",
      "output (Dense)               (None, 11)                187       \n",
      "=================================================================\n",
      "Total params: 3,710,191\n",
      "Trainable params: 3,704,935\n",
      "Non-trainable params: 5,256\n",
      "_________________________________________________________________\n"
     ]
    }
   ],
   "source": [
    "model.summary()"
   ]
  },
  {
   "cell_type": "code",
   "execution_count": 33,
   "metadata": {
    "colab": {
     "base_uri": "https://localhost:8080/"
    },
    "executionInfo": {
     "elapsed": 149271,
     "status": "ok",
     "timestamp": 1621849654587,
     "user": {
      "displayName": "Mujtaba Mir",
      "photoUrl": "",
      "userId": "04779880292502345341"
     },
     "user_tz": -330
    },
    "id": "g9K4IMGxXo5x",
    "outputId": "8215c3a1-d24a-49f7-cfef-660f58bded50"
   },
   "outputs": [
    {
     "name": "stdout",
     "output_type": "stream",
     "text": [
      "Epoch 1/6\n",
      "193/193 [==============================] - 27s 131ms/step - loss: 1.8876 - accuracy: 0.4122 - val_loss: 1.6679 - val_accuracy: 0.5294\n",
      "Epoch 2/6\n",
      "193/193 [==============================] - 24s 126ms/step - loss: 1.0637 - accuracy: 0.6706 - val_loss: 1.2410 - val_accuracy: 0.6418\n",
      "Epoch 3/6\n",
      "193/193 [==============================] - 24s 126ms/step - loss: 0.7057 - accuracy: 0.7793 - val_loss: 1.0904 - val_accuracy: 0.6585\n",
      "Epoch 4/6\n",
      "193/193 [==============================] - 24s 126ms/step - loss: 0.5042 - accuracy: 0.8419 - val_loss: 1.1933 - val_accuracy: 0.6541\n",
      "Epoch 5/6\n",
      "193/193 [==============================] - 24s 126ms/step - loss: 0.3526 - accuracy: 0.8918 - val_loss: 1.3638 - val_accuracy: 0.6597\n",
      "Epoch 6/6\n",
      "193/193 [==============================] - 24s 126ms/step - loss: 0.2433 - accuracy: 0.9256 - val_loss: 1.5321 - val_accuracy: 0.6477\n"
     ]
    }
   ],
   "source": [
    "epoch_no = 6\n",
    "model.compile(loss = 'categorical_crossentropy', optimizer = tf.keras.optimizers.Adam(0.001), metrics = ['accuracy'])\n",
    "model_history = model.fit(X_train_new, y_train, \n",
    "                          batch_size = 100, \n",
    "                          epochs = epoch_no, \n",
    "                          verbose = 1, \n",
    "                          validation_data = (X_test_new, y_test))"
   ]
  },
  {
   "cell_type": "markdown",
   "metadata": {
    "id": "uvS19cwLrm7L"
   },
   "source": [
    "*At second epoch the difference between the train and validation accuracy is minimum which implies at this point the model has generalized well. After that it just starts overfitting.*"
   ]
  },
  {
   "cell_type": "code",
   "execution_count": 36,
   "metadata": {
    "colab": {
     "base_uri": "https://localhost:8080/",
     "height": 295
    },
    "executionInfo": {
     "elapsed": 514,
     "status": "ok",
     "timestamp": 1621849660806,
     "user": {
      "displayName": "Mujtaba Mir",
      "photoUrl": "",
      "userId": "04779880292502345341"
     },
     "user_tz": -330
    },
    "id": "C5IFeGazY8Jk",
    "outputId": "ddf5ddc1-536c-49fd-d839-696340b047d8"
   },
   "outputs": [
    {
     "data": {
      "image/png": "[encoded data removed]",
      "text/plain": [
       "<Figure size 432x288 with 1 Axes>"
      ]
     },
     "metadata": {
      "needs_background": "light",
      "tags": []
     },
     "output_type": "display_data"
    }
   ],
   "source": [
    "plt.title('Accuracy plots') \n",
    "plt.plot(list(range(1, epoch_no + 1)), model_history.history['accuracy'])\n",
    "plt.plot(list(range(1, epoch_no + 1)), model_history.history['val_accuracy'])\n",
    "plt.legend(['Train accuracy', 'Validation accuracy'])\n",
    "plt.xlabel('Epochs')\n",
    "plt.ylabel('Accuracy')\n",
    "plt.show()"
   ]
  },
  {
   "cell_type": "code",
   "execution_count": 37,
   "metadata": {
    "colab": {
     "base_uri": "https://localhost:8080/",
     "height": 142
    },
    "executionInfo": {
     "elapsed": 625,
     "status": "ok",
     "timestamp": 1621849663729,
     "user": {
      "displayName": "Mujtaba Mir",
      "photoUrl": "",
      "userId": "04779880292502345341"
     },
     "user_tz": -330
    },
    "id": "wHQmHal2cLEk",
    "outputId": "f7d80d50-b700-49bb-d5ad-c71badfb2858"
   },
   "outputs": [
    {
     "data": {
      "text/html": [
       "<div>\n",
       "<style scoped>\n",
       "    .dataframe tbody tr th:only-of-type {\n",
       "        vertical-align: middle;\n",
       "    }\n",
       "\n",
       "    .dataframe tbody tr th {\n",
       "        vertical-align: top;\n",
       "    }\n",
       "\n",
       "    .dataframe thead th {\n",
       "        text-align: right;\n",
       "    }\n",
       "</style>\n",
       "<table border=\"1\" class=\"dataframe\">\n",
       "  <thead>\n",
       "    <tr style=\"text-align: right;\">\n",
       "      <th></th>\n",
       "      <th>Model</th>\n",
       "      <th>Train Accuracy</th>\n",
       "      <th>Test Accuracy</th>\n",
       "    </tr>\n",
       "  </thead>\n",
       "  <tbody>\n",
       "    <tr>\n",
       "      <th>0</th>\n",
       "      <td>Decision Tree</td>\n",
       "      <td>0.466473</td>\n",
       "      <td>0.445097</td>\n",
       "    </tr>\n",
       "    <tr>\n",
       "      <th>1</th>\n",
       "      <td>Logistic Regression</td>\n",
       "      <td>0.611566</td>\n",
       "      <td>0.590135</td>\n",
       "    </tr>\n",
       "    <tr>\n",
       "      <th>2</th>\n",
       "      <td>LSTM Model</td>\n",
       "      <td>0.670600</td>\n",
       "      <td>0.641800</td>\n",
       "    </tr>\n",
       "  </tbody>\n",
       "</table>\n",
       "</div>"
      ],
      "text/plain": [
       "                 Model  Train Accuracy  Test Accuracy\n",
       "0        Decision Tree        0.466473       0.445097\n",
       "1  Logistic Regression        0.611566       0.590135\n",
       "2           LSTM Model        0.670600       0.641800"
      ]
     },
     "execution_count": 37,
     "metadata": {
      "tags": []
     },
     "output_type": "execute_result"
    }
   ],
   "source": [
    "results = pd.DataFrame({'Model': ['Decision Tree', 'Logistic Regression', 'LSTM Model'], 'Train Accuracy' : [accuracy_dtc_train, accuracy_lr_train, 0.6706], 'Test Accuracy' : [accuracy_dtc, accuracy_lr, 0.6418]})\n",
    "results"
   ]
  },
  {
   "cell_type": "markdown",
   "metadata": {
    "id": "M_dqkwIsgM8u"
   },
   "source": [
    "*Performance wise:*\n",
    "\n",
    "\n",
    "> *LSTM > Logistic Regression > Decision Tree*\n",
    "\n",
    "\n"
   ]
  }
 ],
 "metadata": {
  "colab": {
   "authorship_tag": "ABX9TyPBg4sHbD3vdXek3cyuVoQj",
   "collapsed_sections": [],
   "name": "ROOT2AI Assigment.ipynb",
   "provenance": []
  },
  "kernelspec": {
   "display_name": "Python 3",
   "language": "python",
   "name": "python3"
  },
  "language_info": {
   "codemirror_mode": {
    "name": "ipython",
    "version": 3
   },
   "file_extension": ".py",
   "mimetype": "text/x-python",
   "name": "python",
   "nbconvert_exporter": "python",
   "pygments_lexer": "ipython3",
   "version": "3.7.6"
  }
 },
 "nbformat": 4,
 "nbformat_minor": 1
}
